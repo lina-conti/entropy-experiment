{
 "cells": [
  {
   "cell_type": "markdown",
   "metadata": {},
   "source": [
    "# Converts the tatoeba test set into raw text files"
   ]
  },
  {
   "cell_type": "code",
   "execution_count": 1,
   "metadata": {},
   "outputs": [
    {
     "name": "stderr",
     "output_type": "stream",
     "text": [
      "Using custom data configuration en-pt-lang1=en,lang2=pt\n",
      "Reusing dataset get_tatoeba (/tmp/.cache/huggingface/get_tatoeba/en-pt-lang1=en,lang2=pt/0.0.0/336de120b2cb1a268f4eb9ebc7969075ccfabb978716d834a58a7889dbb5f267)\n"
     ]
    },
    {
     "data": {
      "text/plain": [
       "Dataset({\n",
       "    features: ['id', 'translation'],\n",
       "    num_rows: 1000\n",
       "})"
      ]
     },
     "execution_count": 1,
     "metadata": {},
     "output_type": "execute_result"
    }
   ],
   "source": [
    "from datasets import load_dataset\n",
    "tatoeba_kwargs = {\n",
    "  \"path\": f\"/home/lconti/en-pt_tatoeba/get_tatoeba.py\",\n",
    "  \"lang1\": \"en\",\n",
    "  \"lang2\": \"pt\",\n",
    "  \"ignore_verifications\": True,\n",
    "  \"cache_dir\": \"/tmp/.cache/huggingface\"\n",
    "}\n",
    "\n",
    "tatoeba_test = load_dataset(split=\"train[1000:2000]\", **tatoeba_kwargs)\n",
    "\n",
    "tatoeba_test"
   ]
  },
  {
   "cell_type": "code",
   "execution_count": 2,
   "metadata": {},
   "outputs": [],
   "source": [
    "tatoeba_test_flat = tatoeba_test.flatten()"
   ]
  },
  {
   "cell_type": "code",
   "execution_count": 5,
   "metadata": {},
   "outputs": [],
   "source": [
    "with open(\"/home/lconti/en-pt_tatoeba/test/tatoeba_test.en\", \"w\") as f:\n",
    "    for sentence in tatoeba_test_flat['translation.en']:\n",
    "        f.write(sentence + \"\\n\")"
   ]
  },
  {
   "cell_type": "code",
   "execution_count": 6,
   "metadata": {},
   "outputs": [],
   "source": [
    "with open(\"/home/lconti/en-pt_tatoeba/test/tatoeba_test.pt\", \"w\") as f:\n",
    "    for sentence in tatoeba_test_flat['translation.pt']:\n",
    "        f.write(sentence + \"\\n\")"
   ]
  }
 ],
 "metadata": {
  "kernelspec": {
   "display_name": "Python 3.9.12 ('jnmt': conda)",
   "language": "python",
   "name": "python3"
  },
  "language_info": {
   "codemirror_mode": {
    "name": "ipython",
    "version": 3
   },
   "file_extension": ".py",
   "mimetype": "text/x-python",
   "name": "python",
   "nbconvert_exporter": "python",
   "pygments_lexer": "ipython3",
   "version": "3.9.12"
  },
  "orig_nbformat": 4,
  "vscode": {
   "interpreter": {
    "hash": "ad8f15f545f960394c2b715929c50f53ca25bb3ac30999d2a9b000ae440e403d"
   }
  }
 },
 "nbformat": 4,
 "nbformat_minor": 2
}
